{
 "cells": [
  {
   "cell_type": "code",
   "execution_count": 1,
   "metadata": {},
   "outputs": [],
   "source": [
    "import pandas as pd"
   ]
  },
  {
   "cell_type": "code",
   "execution_count": 2,
   "metadata": {},
   "outputs": [
    {
     "data": {
      "text/html": [
       "<div>\n",
       "<style scoped>\n",
       "    .dataframe tbody tr th:only-of-type {\n",
       "        vertical-align: middle;\n",
       "    }\n",
       "\n",
       "    .dataframe tbody tr th {\n",
       "        vertical-align: top;\n",
       "    }\n",
       "\n",
       "    .dataframe thead th {\n",
       "        text-align: right;\n",
       "    }\n",
       "</style>\n",
       "<table border=\"1\" class=\"dataframe\">\n",
       "  <thead>\n",
       "    <tr style=\"text-align: right;\">\n",
       "      <th></th>\n",
       "      <th>name</th>\n",
       "      <th>tickers</th>\n",
       "    </tr>\n",
       "  </thead>\n",
       "  <tbody>\n",
       "    <tr>\n",
       "      <th>0</th>\n",
       "      <td>The Graph</td>\n",
       "      <td>{'base': 'GRT', 'target': 'USDT', 'market': {'...</td>\n",
       "    </tr>\n",
       "    <tr>\n",
       "      <th>1</th>\n",
       "      <td>The Graph</td>\n",
       "      <td>{'base': 'GRT', 'target': 'USDT', 'market': {'...</td>\n",
       "    </tr>\n",
       "    <tr>\n",
       "      <th>2</th>\n",
       "      <td>The Graph</td>\n",
       "      <td>{'base': 'GRT', 'target': 'USD', 'market': {'n...</td>\n",
       "    </tr>\n",
       "    <tr>\n",
       "      <th>3</th>\n",
       "      <td>The Graph</td>\n",
       "      <td>{'base': 'GRT', 'target': 'BTC', 'market': {'n...</td>\n",
       "    </tr>\n",
       "    <tr>\n",
       "      <th>4</th>\n",
       "      <td>The Graph</td>\n",
       "      <td>{'base': 'GRT', 'target': 'USDT', 'market': {'...</td>\n",
       "    </tr>\n",
       "  </tbody>\n",
       "</table>\n",
       "</div>"
      ],
      "text/plain": [
       "        name                                            tickers\n",
       "0  The Graph  {'base': 'GRT', 'target': 'USDT', 'market': {'...\n",
       "1  The Graph  {'base': 'GRT', 'target': 'USDT', 'market': {'...\n",
       "2  The Graph  {'base': 'GRT', 'target': 'USD', 'market': {'n...\n",
       "3  The Graph  {'base': 'GRT', 'target': 'BTC', 'market': {'n...\n",
       "4  The Graph  {'base': 'GRT', 'target': 'USDT', 'market': {'..."
      ]
     },
     "execution_count": 2,
     "metadata": {},
     "output_type": "execute_result"
    }
   ],
   "source": [
    "df = pd.read_json(\"the-graph.json\")\n",
    "df.head()"
   ]
  },
  {
   "cell_type": "code",
   "execution_count": 3,
   "metadata": {},
   "outputs": [
    {
     "data": {
      "text/plain": [
       "{'base': 'GRT',\n",
       " 'target': 'USDT',\n",
       " 'market': {'name': 'Binance',\n",
       "  'identifier': 'binance',\n",
       "  'has_trading_incentive': False},\n",
       " 'last': 2.01229,\n",
       " 'volume': 60386694.61873537,\n",
       " 'converted_last': {'btc': 4.084e-05,\n",
       "  'eth': 0.0011410300000000001,\n",
       "  'usd': 2.01},\n",
       " 'converted_volume': {'btc': 2466, 'eth': 68903, 'usd': 121575423},\n",
       " 'trust_score': 'green',\n",
       " 'bid_ask_spread_percentage': 0.178477,\n",
       " 'timestamp': '2021-02-17T01:56:01+00:00',\n",
       " 'last_traded_at': '2021-02-17T01:56:01+00:00',\n",
       " 'last_fetch_at': '2021-02-17T01:56:01+00:00',\n",
       " 'is_anomaly': False,\n",
       " 'is_stale': False,\n",
       " 'trade_url': 'https://www.binance.com/en/trade/GRT_USDT',\n",
       " 'token_info_url': None,\n",
       " 'coin_id': 'the-graph',\n",
       " 'target_coin_id': 'tether'}"
      ]
     },
     "execution_count": 3,
     "metadata": {},
     "output_type": "execute_result"
    }
   ],
   "source": [
    "df[\"tickers\"][0]"
   ]
  }
 ],
 "metadata": {
  "kernelspec": {
   "display_name": "Python (data-gov)",
   "language": "python",
   "name": "data-gov"
  },
  "language_info": {
   "codemirror_mode": {
    "name": "ipython",
    "version": 3
   },
   "file_extension": ".py",
   "mimetype": "text/x-python",
   "name": "python",
   "nbconvert_exporter": "python",
   "pygments_lexer": "ipython3",
   "version": "3.7.0"
  }
 },
 "nbformat": 4,
 "nbformat_minor": 4
}
