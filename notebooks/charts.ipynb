{
 "cells": [
  {
   "cell_type": "code",
   "execution_count": 1,
   "metadata": {},
   "outputs": [],
   "source": [
    "import json\n",
    "\n",
    "import pandas as pd\n",
    "import matplotlib.pyplot as plt"
   ]
  },
  {
   "cell_type": "markdown",
   "metadata": {},
   "source": [
    "## Checking out charts"
   ]
  },
  {
   "cell_type": "code",
   "execution_count": 2,
   "metadata": {},
   "outputs": [],
   "source": [
    "with open(\"the-graph.json\") as graph_json:\n",
    "    data = json.load(graph_json)"
   ]
  },
  {
   "cell_type": "code",
   "execution_count": 3,
   "metadata": {},
   "outputs": [],
   "source": [
    "prices = data[\"prices\"]"
   ]
  },
  {
   "cell_type": "code",
   "execution_count": 4,
   "metadata": {},
   "outputs": [
    {
     "data": {
      "text/plain": [
       "unix_ts      int64\n",
       "price      float64\n",
       "dtype: object"
      ]
     },
     "execution_count": 4,
     "metadata": {},
     "output_type": "execute_result"
    }
   ],
   "source": [
    "df = pd.DataFrame(prices, columns=[\"unix_ts\", \"price\"])\n",
    "df.dtypes"
   ]
  },
  {
   "cell_type": "markdown",
   "metadata": {},
   "source": [
    "The timestamp arrives in milliseconds:"
   ]
  },
  {
   "cell_type": "code",
   "execution_count": 5,
   "metadata": {},
   "outputs": [
    {
     "name": "stdout",
     "output_type": "stream",
     "text": [
      "Earliest Date: 2020-12-17\n",
      "Latest Date: 2021-02-17\n"
     ]
    }
   ],
   "source": [
    "df[\"timestamp\"] = pd.to_datetime(df[\"unix_ts\"], unit='ms')\n",
    "\n",
    "mindate = df[\"timestamp\"].min().date()\n",
    "maxdate = df[\"timestamp\"].max().date()\n",
    "\n",
    "print(f\"Earliest Date: {mindate}\")\n",
    "print(f\"Latest Date: {maxdate}\")"
   ]
  },
  {
   "cell_type": "code",
   "execution_count": 6,
   "metadata": {},
   "outputs": [
    {
     "data": {
      "text/html": [
       "<div>\n",
       "<style scoped>\n",
       "    .dataframe tbody tr th:only-of-type {\n",
       "        vertical-align: middle;\n",
       "    }\n",
       "\n",
       "    .dataframe tbody tr th {\n",
       "        vertical-align: top;\n",
       "    }\n",
       "\n",
       "    .dataframe thead th {\n",
       "        text-align: right;\n",
       "    }\n",
       "</style>\n",
       "<table border=\"1\" class=\"dataframe\">\n",
       "  <thead>\n",
       "    <tr style=\"text-align: right;\">\n",
       "      <th></th>\n",
       "      <th>unix_ts</th>\n",
       "      <th>price</th>\n",
       "      <th>timestamp</th>\n",
       "    </tr>\n",
       "  </thead>\n",
       "  <tbody>\n",
       "    <tr>\n",
       "      <th>0</th>\n",
       "      <td>1608228816953</td>\n",
       "      <td>0.135246</td>\n",
       "      <td>2020-12-17 18:13:36.953</td>\n",
       "    </tr>\n",
       "    <tr>\n",
       "      <th>1</th>\n",
       "      <td>1608232109255</td>\n",
       "      <td>0.132723</td>\n",
       "      <td>2020-12-17 19:08:29.255</td>\n",
       "    </tr>\n",
       "    <tr>\n",
       "      <th>2</th>\n",
       "      <td>1608235767502</td>\n",
       "      <td>0.133249</td>\n",
       "      <td>2020-12-17 20:09:27.502</td>\n",
       "    </tr>\n",
       "    <tr>\n",
       "      <th>3</th>\n",
       "      <td>1608239204556</td>\n",
       "      <td>0.115321</td>\n",
       "      <td>2020-12-17 21:06:44.556</td>\n",
       "    </tr>\n",
       "    <tr>\n",
       "      <th>4</th>\n",
       "      <td>1608243223891</td>\n",
       "      <td>0.118031</td>\n",
       "      <td>2020-12-17 22:13:43.891</td>\n",
       "    </tr>\n",
       "  </tbody>\n",
       "</table>\n",
       "</div>"
      ],
      "text/plain": [
       "         unix_ts     price               timestamp\n",
       "0  1608228816953  0.135246 2020-12-17 18:13:36.953\n",
       "1  1608232109255  0.132723 2020-12-17 19:08:29.255\n",
       "2  1608235767502  0.133249 2020-12-17 20:09:27.502\n",
       "3  1608239204556  0.115321 2020-12-17 21:06:44.556\n",
       "4  1608243223891  0.118031 2020-12-17 22:13:43.891"
      ]
     },
     "execution_count": 6,
     "metadata": {},
     "output_type": "execute_result"
    }
   ],
   "source": [
    "df.head()"
   ]
  },
  {
   "cell_type": "code",
   "execution_count": 7,
   "metadata": {},
   "outputs": [
    {
     "data": {
      "image/png": "[encoded data removed]",
      "text/plain": [
       "<Figure size 720x432 with 1 Axes>"
      ]
     },
     "metadata": {
      "needs_background": "light"
     },
     "output_type": "display_data"
    }
   ],
   "source": [
    "fig, ax = plt.subplots(figsize=(10,6))\n",
    "\n",
    "ax.plot(df[\"timestamp\"], df[\"price\"], c=\"#6F4CFF\")\n",
    "ax.set(xlabel=\"Date\", ylabel=\"Price ($)\",\n",
    "       title=\"The Graph\")\n",
    "ax.grid(b=True)\n",
    "\n",
    "plt.xticks(rotation=75)\n",
    "plt.show()"
   ]
  },
  {
   "cell_type": "markdown",
   "metadata": {},
   "source": [
    "Will need to get prices for chosen intervals. For the sake of testing/demonstration, will use a seven day interval. I chose fridays somewhat arbitrarily as I tend not to pay attention to crypto as much on weekends."
   ]
  },
  {
   "cell_type": "code",
   "execution_count": 56,
   "metadata": {},
   "outputs": [
    {
     "data": {
      "text/plain": [
       "DatetimeIndex(['2020-12-18', '2020-12-25', '2021-01-01', '2021-01-08',\n",
       "               '2021-01-15', '2021-01-22', '2021-01-29', '2021-02-05',\n",
       "               '2021-02-12'],\n",
       "              dtype='datetime64[ns]', freq='W-FRI')"
      ]
     },
     "execution_count": 56,
     "metadata": {},
     "output_type": "execute_result"
    }
   ],
   "source": [
    "seven_days = pd.date_range(start=df[\"timestamp\"].min().date(), \n",
    "                           end=df[\"timestamp\"].max().date(),\n",
    "                           freq=\"W-FRI\")\n",
    "seven_days"
   ]
  },
  {
   "cell_type": "code",
   "execution_count": 89,
   "metadata": {},
   "outputs": [],
   "source": [
    "prices = []\n",
    "\n",
    "for d in seven_days:\n",
    "    cond = df[\"timestamp\"].dt.date == d\n",
    "    max_date = df.loc[cond][\"timestamp\"].max()\n",
    "    prices.append(df.loc[df[\"timestamp\"] == max_date][\"price\"].values[0])"
   ]
  },
  {
   "cell_type": "code",
   "execution_count": 92,
   "metadata": {},
   "outputs": [
    {
     "data": {
      "text/plain": [
       "[0.2509304120221865,\n",
       " 0.37226956898545,\n",
       " 0.35649295255114566,\n",
       " 0.3345424595174541,\n",
       " 0.3395026585888461,\n",
       " 0.49998483344339223,\n",
       " 0.5610680565511867,\n",
       " 0.9400942337645702,\n",
       " 2.320648599263097]"
      ]
     },
     "execution_count": 92,
     "metadata": {},
     "output_type": "execute_result"
    }
   ],
   "source": [
    "prices"
   ]
  },
  {
   "cell_type": "code",
   "execution_count": 91,
   "metadata": {},
   "outputs": [
    {
     "data": {
      "text/plain": [
       "[0.4835569988724006,\n",
       " -0.0423795489846256,\n",
       " -0.06157342768379791,\n",
       " 0.01482681474437242,\n",
       " 0.47269784431614037,\n",
       " 0.1221701520166417,\n",
       " 0.6755440321147647,\n",
       " 1.468527638947589]"
      ]
     },
     "execution_count": 91,
     "metadata": {},
     "output_type": "execute_result"
    }
   ],
   "source": [
    "# get growths\n",
    "\n",
    "changes = []\n",
    "\n",
    "for i in range(len(prices)-1):\n",
    "    growth = (prices[i+1] - prices[i]) / prices[i]\n",
    "    changes.append(growth)\n",
    "\n",
    "changes"
   ]
  }
 ],
 "metadata": {
  "kernelspec": {
   "display_name": "Python (data-gov)",
   "language": "python",
   "name": "data-gov"
  },
  "language_info": {
   "codemirror_mode": {
    "name": "ipython",
    "version": 3
   },
   "file_extension": ".py",
   "mimetype": "text/x-python",
   "name": "python",
   "nbconvert_exporter": "python",
   "pygments_lexer": "ipython3",
   "version": "3.7.0"
  }
 },
 "nbformat": 4,
 "nbformat_minor": 4
}
