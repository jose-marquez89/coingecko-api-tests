{
 "cells": [
  {
   "cell_type": "code",
   "execution_count": 1,
   "metadata": {},
   "outputs": [],
   "source": [
    "import json\n",
    "\n",
    "import pandas as pd\n",
    "import matplotlib.pyplot as plt"
   ]
  },
  {
   "cell_type": "markdown",
   "metadata": {},
   "source": [
    "## Checking out charts"
   ]
  },
  {
   "cell_type": "code",
   "execution_count": 74,
   "metadata": {},
   "outputs": [],
   "source": [
    "with open(\"the-graph.json\") as graph_json:\n",
    "    data = json.load(graph_json)"
   ]
  },
  {
   "cell_type": "code",
   "execution_count": 75,
   "metadata": {},
   "outputs": [],
   "source": [
    "prices = data[\"prices\"]"
   ]
  },
  {
   "cell_type": "code",
   "execution_count": 76,
   "metadata": {},
   "outputs": [
    {
     "data": {
      "text/plain": [
       "unix_ts      int64\n",
       "price      float64\n",
       "dtype: object"
      ]
     },
     "execution_count": 76,
     "metadata": {},
     "output_type": "execute_result"
    }
   ],
   "source": [
    "df = pd.DataFrame(prices, columns=[\"unix_ts\", \"price\"])\n",
    "df.dtypes"
   ]
  },
  {
   "cell_type": "markdown",
   "metadata": {},
   "source": [
    "The timestamp arrives in milliseconds:"
   ]
  },
  {
   "cell_type": "code",
   "execution_count": 77,
   "metadata": {},
   "outputs": [
    {
     "name": "stdout",
     "output_type": "stream",
     "text": [
      "Earliest Date: 2020-12-17\n",
      "Latest Date: 2021-02-21\n"
     ]
    }
   ],
   "source": [
    "df[\"timestamp\"] = pd.to_datetime(df[\"unix_ts\"], unit='ms')\n",
    "\n",
    "mindate = df[\"timestamp\"].min().date()\n",
    "maxdate = df[\"timestamp\"].max().date()\n",
    "\n",
    "print(f\"Earliest Date: {mindate}\")\n",
    "print(f\"Latest Date: {maxdate}\")"
   ]
  },
  {
   "cell_type": "code",
   "execution_count": 78,
   "metadata": {},
   "outputs": [
    {
     "data": {
      "text/html": [
       "<div>\n",
       "<style scoped>\n",
       "    .dataframe tbody tr th:only-of-type {\n",
       "        vertical-align: middle;\n",
       "    }\n",
       "\n",
       "    .dataframe tbody tr th {\n",
       "        vertical-align: top;\n",
       "    }\n",
       "\n",
       "    .dataframe thead th {\n",
       "        text-align: right;\n",
       "    }\n",
       "</style>\n",
       "<table border=\"1\" class=\"dataframe\">\n",
       "  <thead>\n",
       "    <tr style=\"text-align: right;\">\n",
       "      <th></th>\n",
       "      <th>unix_ts</th>\n",
       "      <th>price</th>\n",
       "      <th>timestamp</th>\n",
       "    </tr>\n",
       "  </thead>\n",
       "  <tbody>\n",
       "    <tr>\n",
       "      <th>0</th>\n",
       "      <td>1608163200000</td>\n",
       "      <td>0.120903</td>\n",
       "      <td>2020-12-17</td>\n",
       "    </tr>\n",
       "    <tr>\n",
       "      <th>1</th>\n",
       "      <td>1608249600000</td>\n",
       "      <td>0.120903</td>\n",
       "      <td>2020-12-18</td>\n",
       "    </tr>\n",
       "    <tr>\n",
       "      <th>2</th>\n",
       "      <td>1608336000000</td>\n",
       "      <td>0.261269</td>\n",
       "      <td>2020-12-19</td>\n",
       "    </tr>\n",
       "    <tr>\n",
       "      <th>3</th>\n",
       "      <td>1608422400000</td>\n",
       "      <td>0.482698</td>\n",
       "      <td>2020-12-20</td>\n",
       "    </tr>\n",
       "    <tr>\n",
       "      <th>4</th>\n",
       "      <td>1608508800000</td>\n",
       "      <td>0.749798</td>\n",
       "      <td>2020-12-21</td>\n",
       "    </tr>\n",
       "  </tbody>\n",
       "</table>\n",
       "</div>"
      ],
      "text/plain": [
       "         unix_ts     price  timestamp\n",
       "0  1608163200000  0.120903 2020-12-17\n",
       "1  1608249600000  0.120903 2020-12-18\n",
       "2  1608336000000  0.261269 2020-12-19\n",
       "3  1608422400000  0.482698 2020-12-20\n",
       "4  1608508800000  0.749798 2020-12-21"
      ]
     },
     "execution_count": 78,
     "metadata": {},
     "output_type": "execute_result"
    }
   ],
   "source": [
    "df.head()"
   ]
  },
  {
   "cell_type": "code",
   "execution_count": 79,
   "metadata": {},
   "outputs": [
    {
     "data": {
      "image/png": "[encoded data removed]",
      "text/plain": [
       "<Figure size 720x432 with 1 Axes>"
      ]
     },
     "metadata": {
      "needs_background": "light"
     },
     "output_type": "display_data"
    }
   ],
   "source": [
    "fig, ax = plt.subplots(figsize=(10,6))\n",
    "\n",
    "ax.plot(df[\"timestamp\"], df[\"price\"], c=\"#6F4CFF\")\n",
    "ax.set(xlabel=\"Date\", ylabel=\"Price ($)\",\n",
    "       title=\"The Graph\")\n",
    "ax.grid(b=True)\n",
    "\n",
    "plt.xticks(rotation=75)\n",
    "plt.show()"
   ]
  },
  {
   "cell_type": "markdown",
   "metadata": {},
   "source": [
    "Will need to get prices for chosen intervals. For the sake of testing/demonstration, will use a seven day interval. I chose fridays somewhat arbitrarily as I tend not to pay attention to crypto as much on weekends."
   ]
  },
  {
   "cell_type": "code",
   "execution_count": 80,
   "metadata": {},
   "outputs": [
    {
     "data": {
      "text/plain": [
       "DatetimeIndex(['2020-12-18', '2020-12-25', '2021-01-01', '2021-01-08',\n",
       "               '2021-01-15', '2021-01-22', '2021-01-29', '2021-02-05',\n",
       "               '2021-02-12', '2021-02-19'],\n",
       "              dtype='datetime64[ns]', freq='W-FRI')"
      ]
     },
     "execution_count": 80,
     "metadata": {},
     "output_type": "execute_result"
    }
   ],
   "source": [
    "earliest = df[\"timestamp\"].min().date()\n",
    "latest = df[\"timestamp\"].max().date()\n",
    "\n",
    "seven_days = pd.date_range(start=earliest, \n",
    "                           end=latest,\n",
    "                           freq=\"W-FRI\")\n",
    "seven_days"
   ]
  },
  {
   "cell_type": "markdown",
   "metadata": {},
   "source": [
    "## Expected Value vs Straight Average"
   ]
  },
  {
   "cell_type": "code",
   "execution_count": 81,
   "metadata": {},
   "outputs": [],
   "source": [
    "def closing_prices(data, dates):\n",
    "    \"\"\"gets the closing prices for the selected date range\"\"\"\n",
    "    prices = []\n",
    "    \n",
    "    for date in dates:\n",
    "        cond = data[\"timestamp\"].dt.date == date\n",
    "        max_date = data.loc[cond][\"timestamp\"].max()\n",
    "        prices.append(data.loc[data[\"timestamp\"] == max_date][\"price\"].values[0])\n",
    "        \n",
    "    return prices\n",
    "        \n",
    "prices = closing_prices(df, seven_days)"
   ]
  },
  {
   "cell_type": "code",
   "execution_count": 82,
   "metadata": {},
   "outputs": [
    {
     "data": {
      "text/plain": [
       "[0.12090320886073201,\n",
       " 0.41261777614343237,\n",
       " 0.35083089348560426,\n",
       " 0.34747863219571423,\n",
       " 0.3337795884479543,\n",
       " 0.44031433975373463,\n",
       " 0.5652879317430903,\n",
       " 0.8121773828746445,\n",
       " 2.046628946749041,\n",
       " 2.2995654386337403]"
      ]
     },
     "execution_count": 82,
     "metadata": {},
     "output_type": "execute_result"
    }
   ],
   "source": [
    "prices"
   ]
  },
  {
   "cell_type": "code",
   "execution_count": 83,
   "metadata": {},
   "outputs": [
    {
     "data": {
      "text/plain": [
       "[2.4127942511329485,\n",
       " -0.14974362771115812,\n",
       " -0.009555205519629012,\n",
       " -0.03942413281989687,\n",
       " 0.3191769508769471,\n",
       " 0.2838281216533914,\n",
       " 0.43674990614121123,\n",
       " 1.5199285154988462,\n",
       " 0.12358688285264172]"
      ]
     },
     "execution_count": 83,
     "metadata": {},
     "output_type": "execute_result"
    }
   ],
   "source": [
    "def get_growths(prices):\n",
    "    \"\"\"gets changes in price from one price to another\"\"\"\n",
    "    changes = []\n",
    "    \n",
    "    for i in range(len(prices)-1):\n",
    "        growth = (prices[i+1] - prices[i]) / prices[i]\n",
    "        changes.append(growth)\n",
    "        \n",
    "    return changes\n",
    "\n",
    "prices = get_growths(prices)\n",
    "prices"
   ]
  },
  {
   "cell_type": "markdown",
   "metadata": {},
   "source": [
    "The question here is: will expected value boil down to just an average if the change values are all distinct?"
   ]
  },
  {
   "cell_type": "code",
   "execution_count": 84,
   "metadata": {},
   "outputs": [
    {
     "data": {
      "text/plain": [
       "{0.4835569988724006: 1,\n",
       " -0.0423795489846256: 1,\n",
       " -0.06157342768379791: 1,\n",
       " 0.01482681474437242: 1,\n",
       " 0.47269784431614037: 1,\n",
       " 0.1221701520166417: 1,\n",
       " 0.6755440321147647: 1,\n",
       " 1.468527638947589: 1}"
      ]
     },
     "execution_count": 84,
     "metadata": {},
     "output_type": "execute_result"
    }
   ],
   "source": [
    "# get expected value\n",
    "\n",
    "values = {}\n",
    "\n",
    "for change in changes:\n",
    "    if change not in values:\n",
    "        values[change] = 1\n",
    "    else:\n",
    "        values[change] += 1\n",
    "        \n",
    "values"
   ]
  },
  {
   "cell_type": "code",
   "execution_count": 85,
   "metadata": {},
   "outputs": [
    {
     "name": "stdout",
     "output_type": "stream",
     "text": [
      "Expected Value: 0.3916713130429357\n",
      "Average: 0.3916713130429357\n"
     ]
    }
   ],
   "source": [
    "# expected value\n",
    "def ev(value_set):\n",
    "    expected_value = 0\n",
    "    for value, count in value_set.items():\n",
    "        expected_value += value * (count / len(value_set))\n",
    "        \n",
    "    return expected_value\n",
    "\n",
    "# average\n",
    "def avg(price_changes):\n",
    "    return sum(price_changes) / len(price_changes)\n",
    "\n",
    "ex_val = ev(values)\n",
    "average = avg(changes)\n",
    "\n",
    "print(f\"Expected Value: {ex_val}\")\n",
    "print(f\"Average: {average}\")"
   ]
  },
  {
   "cell_type": "markdown",
   "metadata": {},
   "source": [
    "The expected value is exactly the same as the average because it boils down to the same process. There is no generalization happening. I suspect that rounding could help, but until we have more data, we won't get the intended effect of expected value, which is weighted depending on probability. What happens if we use rounding to get closer to a generalization and extract a more detailed set of data?"
   ]
  },
  {
   "cell_type": "code",
   "execution_count": 86,
   "metadata": {},
   "outputs": [
    {
     "name": "stdout",
     "output_type": "stream",
     "text": [
      "Expected Value: 0.0656362556874847\n",
      "Average: 0.06515151515151511\n",
      "Difference: 0.00048474053596958555\n"
     ]
    }
   ],
   "source": [
    "# get more data using a finer granularity\n",
    "\n",
    "daily = pd.date_range(start=earliest, end=latest)\n",
    "\n",
    "daily_prices = closing_prices(df, daily)\n",
    "daily_changes = get_growths(daily_prices)\n",
    "\n",
    "def count_and_round(changes):\n",
    "    counts = {}\n",
    "    for change in changes:\n",
    "        # change = round(change, 2)\n",
    "        \n",
    "        if change not in counts:\n",
    "            counts[change] = 1\n",
    "        else:\n",
    "            counts[change] += 1\n",
    "    \n",
    "    return counts\n",
    "\n",
    "# in order to make a proper comparison, we\n",
    "# need to round within the average function\n",
    "\n",
    "def avg(price_changes):\n",
    "    price_changes = list(map(lambda x: round(x, 2), price_changes))\n",
    "    \n",
    "    return sum(price_changes) / len(price_changes)\n",
    "\n",
    "change_count = count_and_round(daily_changes)\n",
    "\n",
    "xv = ev(change_count)\n",
    "av = avg(daily_changes)\n",
    "\n",
    "print(f\"Expected Value: {xv}\")\n",
    "print(f\"Average: {av}\")\n",
    "print(f\"Difference: {abs(xv - av)}\")"
   ]
  },
  {
   "cell_type": "markdown",
   "metadata": {},
   "source": [
    "## REN: Using a larger dataset\n",
    "Does this change much when you look at a larger set of data? REN has a wider history:"
   ]
  },
  {
   "cell_type": "code",
   "execution_count": 87,
   "metadata": {},
   "outputs": [
    {
     "data": {
      "text/html": [
       "<div>\n",
       "<style scoped>\n",
       "    .dataframe tbody tr th:only-of-type {\n",
       "        vertical-align: middle;\n",
       "    }\n",
       "\n",
       "    .dataframe tbody tr th {\n",
       "        vertical-align: top;\n",
       "    }\n",
       "\n",
       "    .dataframe thead th {\n",
       "        text-align: right;\n",
       "    }\n",
       "</style>\n",
       "<table border=\"1\" class=\"dataframe\">\n",
       "  <thead>\n",
       "    <tr style=\"text-align: right;\">\n",
       "      <th></th>\n",
       "      <th>unix_ts</th>\n",
       "      <th>price</th>\n",
       "      <th>timestamp</th>\n",
       "    </tr>\n",
       "  </thead>\n",
       "  <tbody>\n",
       "    <tr>\n",
       "      <th>0</th>\n",
       "      <td>1575244800000</td>\n",
       "      <td>0.038661</td>\n",
       "      <td>2019-12-02</td>\n",
       "    </tr>\n",
       "    <tr>\n",
       "      <th>1</th>\n",
       "      <td>1575331200000</td>\n",
       "      <td>0.037787</td>\n",
       "      <td>2019-12-03</td>\n",
       "    </tr>\n",
       "    <tr>\n",
       "      <th>2</th>\n",
       "      <td>1575417600000</td>\n",
       "      <td>0.038969</td>\n",
       "      <td>2019-12-04</td>\n",
       "    </tr>\n",
       "    <tr>\n",
       "      <th>3</th>\n",
       "      <td>1575504000000</td>\n",
       "      <td>0.035245</td>\n",
       "      <td>2019-12-05</td>\n",
       "    </tr>\n",
       "    <tr>\n",
       "      <th>4</th>\n",
       "      <td>1575590400000</td>\n",
       "      <td>0.037915</td>\n",
       "      <td>2019-12-06</td>\n",
       "    </tr>\n",
       "  </tbody>\n",
       "</table>\n",
       "</div>"
      ],
      "text/plain": [
       "         unix_ts     price  timestamp\n",
       "0  1575244800000  0.038661 2019-12-02\n",
       "1  1575331200000  0.037787 2019-12-03\n",
       "2  1575417600000  0.038969 2019-12-04\n",
       "3  1575504000000  0.035245 2019-12-05\n",
       "4  1575590400000  0.037915 2019-12-06"
      ]
     },
     "execution_count": 87,
     "metadata": {},
     "output_type": "execute_result"
    }
   ],
   "source": [
    "with open(\"republic-protocol.json\", \"r\") as ren_file:\n",
    "    ren_json = json.load(ren_file)\n",
    "    \n",
    "ren_prices = ren_json[\"prices\"]\n",
    "\n",
    "ren_df = pd.DataFrame(data=ren_prices, columns=[\"unix_ts\", \"price\"])\n",
    "ren_df[\"timestamp\"] = pd.to_datetime(ren_df[\"unix_ts\"], unit=\"ms\")\n",
    "\n",
    "ren_df.head()"
   ]
  },
  {
   "cell_type": "code",
   "execution_count": 88,
   "metadata": {},
   "outputs": [
    {
     "data": {
      "image/png": "[encoded data removed]",
      "text/plain": [
       "<Figure size 720x432 with 1 Axes>"
      ]
     },
     "metadata": {
      "needs_background": "light"
     },
     "output_type": "display_data"
    }
   ],
   "source": [
    "# plot REN history for fun\n",
    "fig, ax = plt.subplots(figsize=(10,6))\n",
    "\n",
    "ax.plot(ren_df[\"timestamp\"], ren_df[\"price\"], c=\"#3F566F\")\n",
    "ax.set(xlabel=\"Price ($)\", ylabel=\"Date\", title=\"Ren Price\")\n",
    "ax.grid(b=True)\n",
    "\n",
    "plt.xticks(rotation=75)\n",
    "\n",
    "plt.show()"
   ]
  },
  {
   "cell_type": "markdown",
   "metadata": {},
   "source": [
    "### Weekly vs Daily Holds\n",
    "EV vs Average:"
   ]
  },
  {
   "cell_type": "code",
   "execution_count": 93,
   "metadata": {},
   "outputs": [
    {
     "name": "stdout",
     "output_type": "stream",
     "text": [
      "(0.07365079365079365, 0.07355732158592021, 9.347206487343718e-05)\n"
     ]
    }
   ],
   "source": [
    "# create a re-usable function\n",
    "\n",
    "def hold_values(price_data, frequency=\"D\"):\n",
    "    earliest = price_data[\"timestamp\"].min().date()\n",
    "    latest = price_data[\"timestamp\"].max().date()\n",
    "\n",
    "    drange = pd.date_range(start=earliest, end=latest, freq=frequency)\n",
    "    \n",
    "    prices = closing_prices(price_data, drange)\n",
    "    price_changes = get_growths(prices)\n",
    "    change_counts = count_and_round(price_changes)\n",
    "    \n",
    "    average = avg(price_changes)\n",
    "    expected_value = ev(change_counts)\n",
    "    difference = abs(average - expected_value)\n",
    "    \n",
    "    return average, expected_value, difference\n",
    "\n",
    "ren_result = hold_values(ren_df, frequency=\"W-FRI\")\n",
    "print(ren_result)"
   ]
  },
  {
   "cell_type": "code",
   "execution_count": 95,
   "metadata": {},
   "outputs": [
    {
     "name": "stdout",
     "output_type": "stream",
     "text": [
      "REN Daily: (0.011901565995525732, 0.011811863036828062, 8.970295869767039e-05)\n",
      "REN Monthly: (0.3438461538461539, 0.3439575270846264, 0.0001113732384724897)\n"
     ]
    }
   ],
   "source": [
    "ren_daily = hold_values(ren_df)\n",
    "print(\"REN Daily:\", ren_daily)\n",
    "\n",
    "ren_monthly = hold_values(ren_df, frequency=\"M\")\n",
    "print(\"REN Monthly:\", ren_monthly)"
   ]
  },
  {
   "cell_type": "markdown",
   "metadata": {},
   "source": [
    "Trying to calculate the expected value results in almost the same value as the average. The difference is minor enough to not make a difference. In order to really make a difference, my assumption is that there would have to be quite a limited variation in growth outcomes for a given hold period."
   ]
  }
 ],
 "metadata": {
  "kernelspec": {
   "display_name": "Python (data-gov)",
   "language": "python",
   "name": "data-gov"
  },
  "language_info": {
   "codemirror_mode": {
    "name": "ipython",
    "version": 3
   },
   "file_extension": ".py",
   "mimetype": "text/x-python",
   "name": "python",
   "nbconvert_exporter": "python",
   "pygments_lexer": "ipython3",
   "version": "3.7.0"
  }
 },
 "nbformat": 4,
 "nbformat_minor": 4
}
